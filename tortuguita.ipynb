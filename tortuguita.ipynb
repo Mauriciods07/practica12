{
 "cells": [
  {
   "cell_type": "code",
   "execution_count": 13,
   "metadata": {},
   "outputs": [],
   "source": [
    "#código obtenido de http://openbookproject.net/thinkcs/python/english3e/hello_little_turtles.html\n",
    "import turtle             \n",
    "wn = turtle.Screen()      # Crea un fondo para las tortugas\n",
    "alex = turtle.Turtle()    # Crea una tortuga, alex\n",
    "\n",
    "alex.forward(50)          # alex se mueve 50 unidades\n",
    "alex.left(90)             # alex gira 90 grados\n",
    "alex.forward(30)          \n",
    "\n",
    "wn.mainloop()             # espera a que el usuario cierre la ventana"
   ]
  },
  {
   "cell_type": "code",
   "execution_count": 3,
   "metadata": {},
   "outputs": [
    {
     "name": "stdout",
     "output_type": "stream",
     "text": [
      "¿Cuál color de fondo deseas? (El nombre del color debe estar en inglés)\n",
      "lightgreen - blue - hotpink...: red\n",
      "¿De qué color es tu tortuguita? (El nombre del color debe estar en inglés)\n",
      "blue\n",
      "¿De qué tamaño será tu  tortuguita?\n",
      "3\n"
     ]
    }
   ],
   "source": [
    "#basado en un código de http://openbookproject.net/thinkcs/python/english3e/hello_little_turtles.html\n",
    "\n",
    "#el usuario elige el color del fondo de pantalla\n",
    "print(\"¿Cuál color de fondo deseas? (El nombre del color debe estar en inglés)\")\n",
    "colscreen = input(\"lightgreen - blue - hotpink...: \")\n",
    "\n",
    "#el usuario elige el color de la tortuga\n",
    "print(\"¿De qué color es tu tortuguita? (El nombre del color debe estar en inglés)\")\n",
    "coltortu = input()\n",
    "\n",
    "#el usuario elige el tamaño de la tortuga\n",
    "print(\"¿De qué tamaño será tu  tortuguita?\")\n",
    "widtortu = int(input())\n",
    "\n",
    "wn = turtle.Screen()\n",
    "wn.bgcolor(colscreen)            # Cambia el color del fondo de pantalla\n",
    "wn.title(\"Hola, Tortu!\")         # Nombre de la ventana\n",
    "\n",
    "tortu = turtle.Turtle()\n",
    "tortu.color(coltortu)            # Cambia el color de la tortuga\n",
    "tortu.pensize(widtortu)          # Cambia el tamaño de la tortuga\n",
    "\n",
    "tortu.forward(50)\n",
    "tortu.left(120)\n",
    "tortu.forward(50)\n",
    "\n",
    "wn.mainloop()"
   ]
  },
  {
   "cell_type": "code",
   "execution_count": 5,
   "metadata": {},
   "outputs": [],
   "source": [
    "wn = turtle.Screen()\n",
    "wn.bgcolor(\"lightgreen\")\n",
    "wn.title(\"Tortu y Chess\")\n",
    "\n",
    "tortu = turtle.Turtle()\n",
    "tortu.color(\"green\")\n",
    "\n",
    "ches = turtle.Turtle()\n",
    "ches.pensize(5)\n",
    "\n",
    "#Trazan figuras geométricas\n",
    "for i in range(3):\n",
    "    tortu.forward(80)   #triángulo equilátero\n",
    "    tortu.left(120)     #triángulo completo\n",
    "\n",
    "tortu.right(180)\n",
    "tortu.forward(80)    #Tortu se aleja\n",
    "\n",
    "for i in range(4):\n",
    "    ches.forward(50)    #Cuadrado\n",
    "    ches.left(90)"
   ]
  },
  {
   "cell_type": "code",
   "execution_count": 9,
   "metadata": {},
   "outputs": [],
   "source": [
    "#la tortuga describe un círculo\n",
    "wn = turtle.Screen()\n",
    "wn.bgcolor(\"blueviolet\")\n",
    "wn.title(\"Circle!\")\n",
    "\n",
    "tortu = turtle.Turtle()\n",
    "tortu.color(\"beige\")\n",
    "\n",
    "for i in range(360):\n",
    "    tortu.left(1)\n",
    "    tortu.forward(1)\n",
    "    tortu.speed(0)\n",
    "    \n",
    "wn.mainloop()"
   ]
  },
  {
   "cell_type": "code",
   "execution_count": 14,
   "metadata": {
    "collapsed": true
   },
   "outputs": [],
   "source": [
    "#Llama a otro código en donde crea una tortugita que camina con un método iterativo\n",
    "!python recorrido_no_recursivo.py"
   ]
  },
  {
   "cell_type": "code",
   "execution_count": 19,
   "metadata": {},
   "outputs": [],
   "source": [
    "#Llama a otro código que contiene una función iterativa\n",
    "#Para que funcione correctamente se deben introducir cuatro parámetros que se pasan al otro código\n",
    "#--scolor - color del fondo de la pantalla\n",
    "#--tcolor - color de la tortuga\n",
    "#--huellas - número de huellas que dejará la tortuga\n",
    "#--espacio - el espacio que dejará entre cada huella, este va a aumentar de acuerdo a la función programada\n",
    "#scolor y tcolor son parametros opcionales, en caso de no ponerlos, hay colores predeterminados\n",
    "    #scolor - lightgreen y tcolor - blue\n",
    "#huellas y espacio son parametros obligatorios\n",
    "!python recorrido_recursivo.py --scolor white --tcolor red --huellas 30 --espacio 10"
   ]
  },
  {
   "cell_type": "code",
   "execution_count": null,
   "metadata": {
    "collapsed": true
   },
   "outputs": [],
   "source": [
    "!python recorrido_recursivo.py --huellas 50 --espacio 0"
   ]
  }
 ],
 "metadata": {
  "kernelspec": {
   "display_name": "Python 3",
   "language": "python",
   "name": "python3"
  },
  "language_info": {
   "codemirror_mode": {
    "name": "ipython",
    "version": 3
   },
   "file_extension": ".py",
   "mimetype": "text/x-python",
   "name": "python",
   "nbconvert_exporter": "python",
   "pygments_lexer": "ipython3",
   "version": "3.6.1"
  }
 },
 "nbformat": 4,
 "nbformat_minor": 2
}
